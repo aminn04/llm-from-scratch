{
 "cells": [
  {
   "cell_type": "markdown",
   "id": "136a4efe-fb99-4311-8679-e0a5b6282755",
   "metadata": {},
   "source": [
    "<table style=\"width:100%\">\n",
    "<tr>\n",
    "<td style=\"vertical-align:middle; text-align:left;\">\n",
    "<font size=\"2\">\n",
    "Supplementary code for the <a href=\"http://mng.bz/orYv\">Build a Large Language Model From Scratch</a> book by <a href=\"https://sebastianraschka.com\">Sebastian Raschka</a><br>\n",
    "<br>Code repository: <a href=\"https://github.com/rasbt/LLMs-from-scratch\">https://github.com/rasbt/LLMs-from-scratch</a>\n",
    "</font>\n",
    "</td>\n",
    "<td style=\"vertical-align:middle; text-align:left;\">\n",
    "<a href=\"http://mng.bz/orYv\"><img src=\"https://sebastianraschka.com/images/LLMs-from-scratch-images/cover-small.webp\" width=\"100px\"></a>\n",
    "</td>\n",
    "</tr>\n",
    "</table>"
   ]
  },
  {
   "cell_type": "markdown",
   "id": "b1910a06-e8a3-40ac-8201-ff70615b1ba4",
   "metadata": {
    "tags": []
   },
   "source": [
    "# Generating An Instruction Dataset via Llama 3 and Ollama"
   ]
  },
  {
   "cell_type": "markdown",
   "id": "a128651b-f326-4232-a994-42f38b7ed520",
   "metadata": {},
   "source": [
    "- This notebook uses an 8-billion-parameter Llama 3 model through ollama to generate a synthetic dataset using the \"hack\" proposed in the \"Magpie: Alignment Data Synthesis from Scratch by Prompting Aligned LLMs with Nothing\" paper ([https://arxiv.org/abs/2406.08464](https://arxiv.org/abs/2406.08464))\n",
    "\n",
    "- The generated dataset will be an instruction dataset with \"instruction\" and \"output\" field similar to what can be found in Alpaca:\n",
    "\n",
    "\n",
    "```python\n",
    "{\n",
    "    \"instruction\": \"What is the atomic number of helium?\",\n",
    "    \"output\": \"The atomic number of helium is 2.\",\n",
    "},\n",
    "```\n",
    "\n",
    "- The code doesn't require a GPU and runs on a laptop (it was tested on a M3 MacBook Air)\n",
    "\n",
    "*Note that the instruction datasets created here are for educational purposes. However, it is the users' duty to ensure that their use adheres to the terms of the relevant licensing agreements with Meta AI's Llama 3.*"
   ]
  },
  {
   "cell_type": "code",
   "execution_count": 1,
   "id": "63610acc-db94-437f-8d38-e99dca0299cb",
   "metadata": {},
   "outputs": [
    {
     "name": "stdout",
     "output_type": "stream",
     "text": [
      "tqdm version: 4.67.1\n"
     ]
    }
   ],
   "source": [
    "from importlib.metadata import version\n",
    "\n",
    "pkgs = [\n",
    "    \"tqdm\",    # Progress bar\n",
    "]\n",
    "\n",
    "for p in pkgs:\n",
    "    print(f\"{p} version: {version(p)}\")"
   ]
  },
  {
   "cell_type": "markdown",
   "id": "8bcdcb34-ac75-4f4f-9505-3ce0666c42d5",
   "metadata": {},
   "source": [
    "## Installing Ollama and Downloading Llama 3"
   ]
  },
  {
   "cell_type": "markdown",
   "id": "5a092280-5462-4709-a3fe-8669a4a8a0a6",
   "metadata": {},
   "source": [
    "- Ollama is an application to run LLMs efficiently\n",
    "- It is a wrapper around [llama.cpp](https://github.com/ggerganov/llama.cpp), which implements LLMs in pure C/C++ to maximize efficiency\n",
    "- Note that it is a tool for using LLMs to generate text (inference), not training or finetuning LLMs\n",
    "- Prior to running the code below, install ollama by visiting [https://ollama.com](https://ollama.com) and following the instructions (for instance, clicking on the \"Download\" button and downloading the ollama application for your operating system)"
   ]
  },
  {
   "cell_type": "markdown",
   "id": "9558a522-650d-401a-84fc-9fd7b1f39da7",
   "metadata": {},
   "source": [
    "- For macOS and Windows users, click on the ollama application you downloaded; if it prompts you to install the command line usage, say \"yes\"\n",
    "- Linux users can use the installation command provided on the ollama website\n",
    "\n",
    "- In general, before we can use ollama from the command line, we have to either start the ollama application or run `ollama serve` in a separate terminal\n",
    "\n",
    "<img src=\"https://sebastianraschka.com/images/LLMs-from-scratch-images/bonus/ollama-eval/ollama-serve.webp?1\">\n",
    "\n",
    "\n",
    "- With the ollama application or `ollama serve` running, in a different terminal, on the command line, execute the following command to try out the 8-billion-parameter Llama 3 model (the model, which takes up 4.7 GB of storage space, will be automatically downloaded the first time you execute this command)\n",
    "\n",
    "```bash\n",
    "# 8B model\n",
    "ollama run llama3\n",
    "```\n",
    "\n",
    "\n",
    "The output looks like as follows:\n",
    "\n",
    "```\n",
    "$ ollama run llama3\n",
    "pulling manifest \n",
    "pulling 6a0746a1ec1a... 100% ▕████████████████▏ 4.7 GB                         \n",
    "pulling 4fa551d4f938... 100% ▕████████████████▏  12 KB                         \n",
    "pulling 8ab4849b038c... 100% ▕████████████████▏  254 B                         \n",
    "pulling 577073ffcc6c... 100% ▕████████████████▏  110 B                         \n",
    "pulling 3f8eb4da87fa... 100% ▕████████████████▏  485 B                         \n",
    "verifying sha256 digest \n",
    "writing manifest \n",
    "removing any unused layers \n",
    "success \n",
    "```\n",
    "\n",
    "- Note that `llama3` refers to the instruction finetuned 8-billion-parameter Llama 3 model\n",
    "\n",
    "- Alternatively, you can also use the larger 70-billion-parameter Llama 3 model, if your machine supports it, by replacing `llama3` with `llama3:70b`\n",
    "\n",
    "- After the download has been completed, you will see a command line prompt that allows you to chat with the model\n",
    "\n",
    "- Try a prompt like \"What do llamas eat?\", which should return an output similar to the following:\n",
    "\n",
    "```\n",
    ">>> What do llamas eat?\n",
    "Llamas are ruminant animals, which means they have a four-chambered \n",
    "stomach and eat plants that are high in fiber. In the wild, llamas \n",
    "typically feed on:\n",
    "1. Grasses: They love to graze on various types of grasses, including tall \n",
    "grasses, wheat, oats, and barley.\n",
    "```"
   ]
  },
  {
   "cell_type": "markdown",
   "id": "0b5addcb-fc7d-455d-bee9-6cc7a0d684c7",
   "metadata": {},
   "source": [
    "- You can end this session using the input `/bye`"
   ]
  },
  {
   "cell_type": "markdown",
   "id": "dda155ee-cf36-44d3-b634-20ba8e1ca38a",
   "metadata": {},
   "source": [
    "## Using Ollama's REST API"
   ]
  },
  {
   "cell_type": "markdown",
   "id": "89343a84-0ddc-42fc-bf50-298a342b93c0",
   "metadata": {},
   "source": [
    "- Now, an alternative way to interact with the model is via its REST API in Python via the following function\n",
    "- Before you run the next cells in this notebook, make sure that ollama is still running, as described above, via\n",
    "  - `ollama serve` in a terminal\n",
    "  - the ollama application\n",
    "- Next, run the following code cell to query the model"
   ]
  },
  {
   "cell_type": "markdown",
   "id": "16642a48-1cab-40d2-af08-ab8c2fbf5876",
   "metadata": {},
   "source": [
    "- First, let's try the API with a simple example to make sure it works as intended:"
   ]
  },
  {
   "cell_type": "code",
   "execution_count": 2,
   "id": "65b0ba76-1fb1-4306-a7c2-8f3bb637ccdb",
   "metadata": {},
   "outputs": [],
   "source": [
    "import urllib.request\n",
    "import json\n",
    "\n",
    "def query_model(prompt, model=\"llama3\", url=\"http://localhost:11434/api/chat\", role=\"user\"):\n",
    "    # Create the data payload as a dictionary\n",
    "    data = {\n",
    "        \"model\": model,\n",
    "        \"seed\": 123,        # for deterministic responses\n",
    "        \"temperature\": 1.,   # for deterministic responses\n",
    "        \"top_p\": 1,         \n",
    "        \"messages\": [\n",
    "            {\"role\": role, \"content\": prompt}\n",
    "        ]\n",
    "    }\n",
    "\n",
    "    # Convert the dictionary to a JSON formatted string and encode it to bytes\n",
    "    payload = json.dumps(data).encode(\"utf-8\")\n",
    "\n",
    "    # Create a request object, setting the method to POST and adding necessary headers\n",
    "    request = urllib.request.Request(url, data=payload, method=\"POST\")\n",
    "    request.add_header(\"Content-Type\", \"application/json\")\n",
    "\n",
    "    # Send the request and capture the response\n",
    "    response_data = \"\"\n",
    "    with urllib.request.urlopen(request) as response:\n",
    "        # Read and decode the response\n",
    "        while True:\n",
    "            line = response.readline().decode(\"utf-8\")\n",
    "            if not line:\n",
    "                break\n",
    "            response_json = json.loads(line)\n",
    "            response_data += response_json[\"message\"][\"content\"]\n",
    "\n",
    "    return response_data"
   ]
  },
  {
   "cell_type": "code",
   "execution_count": 3,
   "id": "4fb61a4e-2706-431a-835e-7e472b42989e",
   "metadata": {},
   "outputs": [
    {
     "name": "stdout",
     "output_type": "stream",
     "text": [
      "Llamas are herbivores, which means they primarily feed on plant-based foods. Their diet typically consists of:\n",
      "\n",
      "1. Grasses: Llamas love to graze on various types of grasses, including tall grasses, short grasses, and even aquatic plants.\n",
      "2. Leaves: They enjoy munching on leaves from trees, shrubs, and bushes. Favourite leafy treats include alfalfa, clover, and hay.\n",
      "3. Hay: Llamas thrive on high-quality hay, such as timothy, oat, or alfalfa hay. Hay is a staple in their diet.\n",
      "4. Grains: Whole grains like oats, barley, and corn are also part of a llama's menu.\n",
      "5. Fruits and vegetables: Llamas enjoy treats like apples, carrots, and sweet potatoes. They might even get some veggies like lettuce or spinach as an occasional snack.\n",
      "\n",
      "In the wild, llamas will forage on whatever plants are available in their natural habitats, such as mountain meadows, forests, or grasslands. In domestic settings, they typically receive a balanced diet of hay, grains, and supplements specifically formulated for their nutritional needs.\n",
      "\n",
      "Remember to always provide fresh water alongside their food to keep your llama happy and healthy!\n"
     ]
    }
   ],
   "source": [
    "result = query_model(\"What do Llamas eat?\")\n",
    "print(result)"
   ]
  },
  {
   "cell_type": "markdown",
   "id": "8c079c6c-5845-4b31-a648-060d0273cd1d",
   "metadata": {},
   "source": [
    "## Extract Instructions"
   ]
  },
  {
   "cell_type": "markdown",
   "id": "92b09132-4a92-4492-9b67-24a644767498",
   "metadata": {},
   "source": [
    "- Now, let's use the \"hack\" proposed in the paper: we provide the empty prompt template `\"<|begin_of_text|><|start_header_id|>user<|end_header_id|>\"` prompt, which will cause the instruction-finetuned Llama 3 model to generate an instruction"
   ]
  },
  {
   "cell_type": "code",
   "execution_count": 4,
   "id": "d7320a41-ed86-49e9-8eb1-5d609a82ad74",
   "metadata": {},
   "outputs": [],
   "source": [
    "def extract_instruction(text):\n",
    "    for content in text.split(\"\\n\"):\n",
    "        if content:\n",
    "            return content.strip()"
   ]
  },
  {
   "cell_type": "code",
   "execution_count": 5,
   "id": "bc41b72f-a8cf-4367-b0ca-0bf8c1f094fd",
   "metadata": {},
   "outputs": [
    {
     "name": "stdout",
     "output_type": "stream",
     "text": [
      "What is the most common type of cyberattack?\n"
     ]
    }
   ],
   "source": [
    "query = \"<|begin_of_text|><|start_header_id|>user<|end_header_id|>\"\n",
    "\n",
    "result = query_model(query, role=\"assistant\")\n",
    "instruction = extract_instruction(result)\n",
    "print(instruction)"
   ]
  },
  {
   "cell_type": "markdown",
   "id": "04d04ba7-bffc-47f0-87dc-d60fc676b14a",
   "metadata": {},
   "source": [
    "- As we can see above, surprisingly, the model indeed generated an instruction"
   ]
  },
  {
   "cell_type": "markdown",
   "id": "162a4739-6f03-4092-a5c2-f57a0b6a4c4d",
   "metadata": {},
   "source": [
    "## Generate Responses"
   ]
  },
  {
   "cell_type": "markdown",
   "id": "2542f8d3-2db2-4a89-ae50-8825eb19d3b6",
   "metadata": {},
   "source": [
    "- Now, the next step is to create the corresponding response, which can be done by simply passing the instruction as input"
   ]
  },
  {
   "cell_type": "code",
   "execution_count": 6,
   "id": "2349eb06-710f-4459-8a03-1a3b2e1e8905",
   "metadata": {},
   "outputs": [
    {
     "name": "stdout",
     "output_type": "stream",
     "text": [
      "According to various sources, including the Cybersecurity and Infrastructure Security Agency (CISA), the most common types of cyberattacks are:\n",
      "\n",
      "1. **Phishing**: This is the most common type of cyberattack, where attackers send fraudulent emails or messages that appear to be from a legitimate source, tricking victims into divulging sensitive information such as passwords, credit card numbers, or social security numbers.\n",
      "2. **Ransomware**: This type of attack involves encrypting files on a victim's computer and demanding payment in exchange for the decryption key.\n",
      "3. **Malware** (including viruses, worms, and Trojan horses): Malicious software that can damage, disrupt, or steal sensitive information.\n",
      "4. **SQL Injection**: An attacker injects malicious code into a website's database to extract or modify sensitive data.\n",
      "5. **Cross-Site Scripting (XSS)**: Attackers inject malicious scripts into a website, allowing them to steal user data or take control of the user's browser.\n",
      "6. **Denial of Service (DoS) and Distributed Denial of Service (DDoS)**: Overwhelming a system with traffic to make it unavailable to users.\n",
      "7. **Brute Force Attacks**: Guessing passwords or other authentication credentials by trying all possible combinations.\n",
      "\n",
      "These attacks are not mutually exclusive, and attackers often combine them to create more complex and sophisticated attacks.\n",
      "\n",
      "According to the 2020 Verizon Data Breach Investigations Report (DBIR), the top five most common attack vectors are:\n",
      "\n",
      "1. Phishing (36%)\n",
      "2. Malware (22%)\n",
      "3. Social Engineering (14%)\n",
      "4. SQL Injection (12%)\n",
      "5. Cross-Site Scripting (8%)\n",
      "\n",
      "It's essential for organizations and individuals to stay vigilant, keep software up-to-date, and use strong passwords to protect against these common cyberattacks.\n"
     ]
    }
   ],
   "source": [
    "response = query_model(instruction, role=\"user\")\n",
    "print(response)"
   ]
  },
  {
   "cell_type": "markdown",
   "id": "b12cf92c-3272-4b36-ae30-d1135af56328",
   "metadata": {},
   "source": [
    "## Generate Dataset"
   ]
  },
  {
   "cell_type": "markdown",
   "id": "470037f3-64f4-4465-9f00-55b69e883a04",
   "metadata": {},
   "source": [
    "- We can scale up this approach to an arbitrary number of data samples (you may want to apply some optional filtering length or quality (e.g., using another LLM to rate the generated data)\n",
    "- Below, we generate 5 synthetic instruction-response pairs, which takes about 3 minutes on an M3 MacBook Air\n",
    "- (To generate a dataset suitable for instruction finetuning, we want to increase this to at least 1k to 50k and perhaps run it on a GPU to generate the examples in a more timely fashion)\n",
    "\n",
    "**Tip**\n",
    "\n",
    "- You can generate even higher-quality responses by changing `model=\"llama3\"` to `model=\"llama3:70b\"`, however, this will require more computational resources"
   ]
  },
  {
   "cell_type": "code",
   "execution_count": 7,
   "id": "3b9e94ab-02ef-4372-91cd-60128159fd83",
   "metadata": {},
   "outputs": [
    {
     "name": "stderr",
     "output_type": "stream",
     "text": [
      "100%|██████████| 5/5 [02:01<00:00, 24.37s/it]\n"
     ]
    }
   ],
   "source": [
    "from tqdm import tqdm\n",
    "\n",
    "dataset_size = 5\n",
    "dataset = []\n",
    "\n",
    "for i in tqdm(range(dataset_size)):\n",
    "\n",
    "    result = query_model(query, role=\"assistant\")\n",
    "    instruction = extract_instruction(result)\n",
    "    response = query_model(instruction, role=\"user\")\n",
    "    entry = {\n",
    "        \"instruction\": instruction,\n",
    "        \"output\": response\n",
    "    }\n",
    "    dataset.append(entry)"
   ]
  },
  {
   "cell_type": "code",
   "execution_count": 8,
   "id": "5fdbc194-c12a-4138-96d1-51bf66ca1574",
   "metadata": {},
   "outputs": [],
   "source": [
    "with open(\"instruction-data-llama3-7b.json\", \"w\") as file:\n",
    "    json.dump(dataset, file, indent=4)"
   ]
  },
  {
   "cell_type": "code",
   "execution_count": 9,
   "id": "b4027ead-bba4-49b7-9965-47532c3fdeee",
   "metadata": {},
   "outputs": [
    {
     "name": "stdout",
     "output_type": "stream",
     "text": [
      "[\n",
      "    {\n",
      "        \"instruction\": \"I'm looking for a good pair of hiking boots. I've heard that some boots are waterproof, but not all water-resistant or waterproofing treatments will keep you dry in wet conditions. What do I need to look for when selecting waterproof hiking boots?\",\n",
      "        \"output\": \"When it comes to choosing waterproof hiking boots, there are several key features and technologies to look for to ensure you stay dry and comfortable on the trail. Here's what you should consider:\\n\\n1. **Waterproof membrane:** Look for boots with a waterproof membrane, such as:\\n\\t* Gore-Tex (Gore-Tex is a registered trademark of W.L. Gore & Associates, Inc.)\\n\\t* eVent\\n\\t* Paclite\\n\\t* SympaTex\\n\\t* Similar proprietary membranes from other manufacturers\\n\\nThese membranes are designed to prevent water from entering the boot while allowing moisture (sweat) to escape.\\n2. **Breathability:** While waterproofing is essential, breathability is crucial too. Look for boots with breathable materials and designs that allow moisture to escape quickly. This will help prevent buildup of sweat inside the boot.\\n3. **Water-resistance ratings:** Some manufacturers provide water-resistance ratings, such as:\\n\\t* Waterproof (100% resistant to water)\\n\\t* Water-resistant (95-99% resistant to water)\\n\\t* Water-repellent (70-94% resistant to water)\\n\\nThese ratings can give you an idea of the boot's performance in wet conditions.\\n4. **Seams and stitching:** Make sure the seams and stitching are sealed or taped to prevent water from entering the boot through these vulnerable areas.\\n5. **Insulation and drainage:** Some waterproof boots feature insulation, such as Thinsulate, which can help keep your feet warm and dry. Look for boots with drainage holes or gusseted tongues that allow excess water to escape.\\n6. **Gussets and tongue design:** A well-designed tongue and gusset system can help prevent water from entering the boot. Look for boots with a gusseted tongue (the part of the boot that covers your foot) and a secure, watertight connection between the tongue and the upper part of the boot.\\n7. **Upper materials:** While waterproofing membranes are essential, the upper materials can also affect water resistance. Look for boots made from durable, water-resistant materials like leather, nylon, or polyester.\\n8. **Testing and certification:** Some manufacturers test their products in extreme conditions to ensure they meet specific standards (e.g., IPX7 or ISO 20345). Look for certifications like these, as they indicate the boot's performance under various weather conditions.\\n9. **Maintenance:** Consider how easy it is to maintain and clean your boots. A good waterproof coating should be resistant to dirt, mud, and debris.\\n\\nWhen selecting waterproof hiking boots, consider your intended use, terrain, and climate. If you'll be hiking in wet or snowy conditions frequently, prioritize a boot with a high water-resistance rating and robust waterproofing membrane.\"\n",
      "    },\n",
      "    {\n",
      "        \"instruction\": \"What are the most effective ways to learn a new language?\",\n",
      "        \"output\": \"There are many effective ways to learn a new language, and what works best for you will depend on your learning style, goals, and availability. Here are some popular methods:\\n\\n1. **Immersion**: Surround yourself with the language by listening to music, watching TV shows or movies, reading books or newspapers, and speaking with native speakers.\\n2. **Language exchange programs**: Find a language partner or tutor who can help you practice your speaking and listening skills in exchange for helping them with your native language.\\n3. **Language learning apps**: Duolingo, Babbel, Rosetta Stone, and Quizlet are popular apps that offer interactive lessons and exercises to help you learn vocabulary, grammar, and pronunciation.\\n4. **Online courses**: Websites like Coursera, edX, and Udemy offer online courses taught by native speakers or experts in the language.\\n5. **Flashcards**: Create physical or digital flashcards with new vocabulary words and their translations to help you memorize new words.\\n6. **Grammar guides**: Study grammar rules and sentence structures to improve your writing and speaking skills.\\n7. **Pronunciation practice**: Listen to native speakers and practice pronunciation by repeating phrases out loud or recording yourself and comparing it to a native speaker.\\n8. **Read, write, listen, speak**: Focus on one skill at a time: read books, articles, or news in the target language; write journal entries or short stories; listen to podcasts, audiobooks, or radio shows; and practice speaking with native speakers or online language exchange partners.\\n9. **Consistency**: Set aside time each day or week to practice, even if it's just for a few minutes.\\n10. **Mnemonics**: Use associations, acronyms, or visual aids to help you remember new vocabulary words and grammar rules.\\n11. **Practice active listening**: Listen to podcasts, audiobooks, or news in the target language without subtitles or translations, and try to summarize what was said.\\n12. **Speak as much as possible**: Practice speaking with native speakers, language exchange partners, or voice assistants like Alexa or Google Assistant.\\n13. **Use music and songs**: Learn new vocabulary and grammar through song lyrics and melodies.\\n14. **Role-playing**: Engage in role-playing scenarios to practice conversations and situations that may arise in everyday life.\\n15. **Get feedback**: Find a tutor, language exchange partner, or native speaker who can provide feedback on your pronunciation, grammar, and vocabulary usage.\\n\\nRemember, everyone learns differently, so try out a few methods to see what works best for you. Good luck!\"\n",
      "    },\n",
      "    {\n",
      "        \"instruction\": \"What are the top 5 most common mental health issues that people struggle with?\",\n",
      "        \"output\": \"According to various sources, including the World Health Organization (WHO) and the National Alliance on Mental Illness (NAMI), here are the top 5 most common mental health issues that people struggle with:\\n\\n1. **Anxiety Disorders**: Anxiety disorders, such as generalized anxiety disorder, panic disorder, social anxiety disorder, and post-traumatic stress disorder (PTSD), affect an estimated 40 million adults in the United States alone. Symptoms include excessive worry, fear, and avoidance behaviors.\\n2. **Major Depressive Disorder**: Major depressive disorder, also known as depression, is a leading cause of disability worldwide. It affects approximately 17% of the adult population in the United States, with symptoms including persistent feelings of sadness, hopelessness, and loss of interest in activities.\\n3. **Bipolar Disorder**: Bipolar disorder, characterized by episodes of mania or hypomania followed by depression, affects around 2.8% of adults in the United States. Symptoms include extreme mood swings, irritability, and changes in energy levels.\\n4. **Post-Traumatic Stress Disorder (PTSD)**: PTSD is a condition that develops after experiencing a traumatic event, such as combat, abuse, or natural disasters. It affects approximately 3.5% of adults in the United States, with symptoms including flashbacks, nightmares, and avoidance behaviors.\\n5. **Attention Deficit Hyperactivity Disorder (ADHD)**: ADHD is a neurodevelopmental disorder characterized by attention deficits, hyperactivity, and impulsivity. It affects around 2-3% of adults in the United States, although it is often misdiagnosed or underdiagnosed.\\n\\nPlease note that these numbers are approximate and may vary depending on the source and population being studied. Additionally, mental health issues can co-occur with one another, making diagnosis and treatment more complex.\\n\\nIt's essential to remember that seeking help from a mental health professional is the first step towards overcoming any of these conditions. With proper support and treatment, individuals can manage their symptoms and improve their overall well-being.\"\n",
      "    },\n",
      "    {\n",
      "        \"instruction\": \"What are some of the main differences between a credit union and a bank?\",\n",
      "        \"output\": \"Credit unions and banks share many similarities, but there are several key differences. Here are some of the main differences:\\n\\n1. **Ownership**: A credit union is a member-owned cooperative, meaning that its members (typically individuals or organizations) own the institution and share in its profits. A bank, on the other hand, is owned by shareholders who seek to maximize their returns.\\n2. **Purpose**: Credit unions were established to serve specific groups of people, such as employees of a particular company, residents of a certain community, or members of a union. Banks, while serving broader communities, often focus on making money through lending and investments.\\n3. **Membership**: To join a credit union, you typically need to be a member of the group it serves (e.g., employee of XYZ Corporation). Bank accounts are open to anyone who meets certain eligibility requirements.\\n4. **Fees**: Credit unions often have lower fees than banks, particularly for services like checking and ATM usage. Banks may charge more for these services, as well as for maintenance of accounts with low balances.\\n5. **Interest rates**: Credit unions tend to offer more competitive interest rates on loans and deposit accounts, especially for fixed-rate mortgages and personal loans. Banks may have higher interest rates due to their larger size and ability to negotiate better deals.\\n6. **Branches and ATMs**: While some credit unions have a large network of branches and ATMs, others may have fewer locations or rely on shared branching networks (e.g., CO-OP Financial Services). Banks typically have a wider reach in terms of physical branches and ATM networks.\\n7. **Risk**: Credit unions are insured by the National Credit Union Administration (NCUA), which provides similar protection to the Federal Deposit Insurance Corporation (FDIC) for banks. However, credit unions may be more vulnerable to risk due to their smaller size and reliance on member deposits.\\n8. **Services**: Both credit unions and banks offer a range of financial services, including checking and savings accounts, loans, credit cards, and investments. Some credit unions might have more limited services or focus on specific products, like mortgage lending.\\n9. **Minimums**: Credit unions often have lower minimum balance requirements for accounts, accounts, or loans. Banks may require higher minimums to avoid fees or penalties.\\n10. **Technology**: Both types of institutions are investing in digital banking platforms and mobile apps to improve convenience and accessibility.\\n\\nUltimately, the choice between a credit union and a bank depends on your individual needs, preferences, and financial goals. It's essential to research and compare the services, fees, and benefits offered by each type of institution before making a decision.\"\n",
      "    },\n",
      "    {\n",
      "        \"instruction\": \"I'm working on a project and I need some help with a problem.\",\n",
      "        \"output\": \"I'd be happy to help you with your problem. Please go ahead and share what's been giving you trouble, and I'll do my best to assist you. What's the issue you're facing?\"\n",
      "    }\n",
      "]"
     ]
    }
   ],
   "source": [
    "!cat instruction-data-llama3-7b.json"
   ]
  }
 ],
 "metadata": {
  "kernelspec": {
   "display_name": "llm-from-scratch",
   "language": "python",
   "name": "python3"
  },
  "language_info": {
   "codemirror_mode": {
    "name": "ipython",
    "version": 3
   },
   "file_extension": ".py",
   "mimetype": "text/x-python",
   "name": "python",
   "nbconvert_exporter": "python",
   "pygments_lexer": "ipython3",
   "version": "3.10.18"
  }
 },
 "nbformat": 4,
 "nbformat_minor": 5
}
